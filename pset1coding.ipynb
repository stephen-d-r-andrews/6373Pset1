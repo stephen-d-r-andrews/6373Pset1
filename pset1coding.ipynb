{
 "cells": [
  {
   "cell_type": "code",
   "execution_count": null,
   "metadata": {},
   "outputs": [],
   "source": [
    "import pandas as pd\n",
    "import numpy as np\n",
    "import statsmodels.stats.multitest as ssm\n",
    "import scipy.stats as stats\n",
    "import sklearn "
   ]
  },
  {
   "cell_type": "markdown",
   "metadata": {},
   "source": [
    "### Problem 1.4"
   ]
  },
  {
   "cell_type": "code",
   "execution_count": 59,
   "metadata": {},
   "outputs": [],
   "source": [
    "golub_cl = pd.read_csv(\"/Users/stephenandrews/Downloads/MIT Schoolwork/Spring 2025/6.3730/6373Pset1/data_and_materials/golub_data/golub_cl.csv\")\n",
    "golub_gnames = pd.read_csv(\"/Users/stephenandrews/Downloads/MIT Schoolwork/Spring 2025/6.3730/6373Pset1/data_and_materials/golub_data/golub_gnames.csv\")\n",
    "golub = pd.read_csv(\"/Users/stephenandrews/Downloads/MIT Schoolwork/Spring 2025/6.3730/6373Pset1/data_and_materials/golub_data/golub.csv\")\n",
    "\n",
    "\n",
    "# print(golub_cl.head())\n",
    "# print('------------')\n",
    "# print(golub_gnames.head())\n",
    "# print('------------')\n",
    "# print(golub.head())\n",
    "\n",
    "golub_cl_np = golub_cl.to_numpy()\n",
    "golub_gnames_np = golub_gnames.to_numpy()\n",
    "golub_np = golub.to_numpy()[:, 1:]\n"
   ]
  },
  {
   "cell_type": "code",
   "execution_count": 36,
   "metadata": {},
   "outputs": [],
   "source": [
    "#Getting Means for ALL vs AML for each gene\n",
    "\n",
    "AML_mask = (golub_cl_np[:, 1]).astype(bool) # True for patients with AML, False otherwise\n",
    "\n",
    "AML_array = golub_np[:, AML_mask]\n",
    "mu_M = np.mean(AML_array, axis=1)\n",
    "\n",
    "ALL_array = golub_np[:, ~AML_mask]\n",
    "mu_L = np.mean(ALL_array, axis=1)\n"
   ]
  },
  {
   "cell_type": "code",
   "execution_count": 58,
   "metadata": {},
   "outputs": [
    {
     "name": "stdout",
     "output_type": "stream",
     "text": [
      "# of genes associated with diff tumor types with uncorrected p-values:  1078\n",
      "# of genes associated with diff tumor types using Holm-Bonferroni Correction:  103\n",
      "# of genes associated with diff tumor types using Benjamini-Hochberg Correction:  695\n"
     ]
    }
   ],
   "source": [
    "# Calculate p-values \n",
    "t_stats, p_values = stats.ttest_ind(ALL_array, AML_array, axis = 1, equal_var=False)\n",
    "\n",
    "parti = np.where(p_values < 0.05) # uncorrected p-values\n",
    "\n",
    "partii, _, _, _ = ssm.multipletests(p_values, method='holm') # holm-bonferroni\n",
    "partii = np.where(partii)\n",
    "\n",
    "\n",
    "partiii, _, _, _ = ssm.multipletests(p_values, method='fdr_bh') # benjamini-hochberg\n",
    "partiii = np.where(partiii)\n",
    "\n",
    "\n",
    "print(\"# of genes associated with diff tumor types with uncorrected p-values: \", len(parti[0]))\n",
    "print(\"# of genes associated with diff tumor types using Holm-Bonferroni Correction: \", len(partii[0]))\n",
    "print(\"# of genes associated with diff tumor types using Benjamini-Hochberg Correction: \", len(partiii[0]))\n"
   ]
  },
  {
   "cell_type": "markdown",
   "metadata": {},
   "source": [
    "### Problem 1.5a"
   ]
  },
  {
   "cell_type": "code",
   "execution_count": null,
   "metadata": {},
   "outputs": [],
   "source": [
    "X = .tonumpy()"
   ]
  }
 ],
 "metadata": {
  "kernelspec": {
   "display_name": "6373pset1",
   "language": "python",
   "name": "python3"
  },
  "language_info": {
   "codemirror_mode": {
    "name": "ipython",
    "version": 3
   },
   "file_extension": ".py",
   "mimetype": "text/x-python",
   "name": "python",
   "nbconvert_exporter": "python",
   "pygments_lexer": "ipython3",
   "version": "3.12.9"
  }
 },
 "nbformat": 4,
 "nbformat_minor": 2
}
