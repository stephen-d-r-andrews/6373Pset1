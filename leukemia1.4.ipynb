{
 "cells": [
  {
   "cell_type": "code",
   "execution_count": 45,
   "metadata": {},
   "outputs": [],
   "source": [
    "import pandas as pd\n",
    "import numpy as np\n",
    "import statsmodels.stats.multitest as ssm\n",
    "import scipy.stats as stats"
   ]
  },
  {
   "cell_type": "code",
   "execution_count": 35,
   "metadata": {},
   "outputs": [
    {
     "name": "stdout",
     "output_type": "stream",
     "text": [
      "   Unnamed: 0  x\n",
      "0           1  0\n",
      "1           2  0\n",
      "2           3  0\n",
      "3           4  0\n",
      "4           5  0\n",
      "------------\n",
      "   Unnamed: 0  V1                                                V2  \\\n",
      "0           1  36  AFFX-HUMISGF3A/M97935_MA_at (endogenous control)   \n",
      "1           2  37  AFFX-HUMISGF3A/M97935_MB_at (endogenous control)   \n",
      "2           3  38   AFFX-HUMISGF3A/M97935_3_at (endogenous control)   \n",
      "3           4  39      AFFX-HUMRGE/M10098_5_at (endogenous control)   \n",
      "4           5  40      AFFX-HUMRGE/M10098_M_at (endogenous control)   \n",
      "\n",
      "                            V3  \n",
      "0  AFFX-HUMISGF3A/M97935_MA_at  \n",
      "1  AFFX-HUMISGF3A/M97935_MB_at  \n",
      "2   AFFX-HUMISGF3A/M97935_3_at  \n",
      "3      AFFX-HUMRGE/M10098_5_at  \n",
      "4      AFFX-HUMRGE/M10098_M_at  \n",
      "------------\n",
      "   Unnamed: 0       V1       V2       V3       V4       V5       V6       V7  \\\n",
      "0           1 -1.45769 -1.39420 -1.42779 -1.40715 -1.42668 -1.21719 -1.37386   \n",
      "1           2 -0.75161 -1.26278 -0.09052 -0.99596 -1.24245 -0.69242 -1.37386   \n",
      "2           3  0.45695 -0.09654  0.90325 -0.07194  0.03232  0.09713 -0.11978   \n",
      "3           4  3.13533  0.21415  2.08754  2.23467  0.93811  2.24089  3.36576   \n",
      "4           5  2.76569 -1.27045  1.60433  1.53182  1.63728  1.85697  3.01847   \n",
      "\n",
      "        V8       V9  ...      V29      V30      V31      V32      V33  \\\n",
      "0 -1.36832 -1.47649  ... -1.08902 -1.29865 -1.26183 -1.44434  1.10147   \n",
      "1 -0.50803 -1.04533  ... -1.08902 -1.05094 -1.26183 -1.25918  0.97813   \n",
      "2  0.23381  0.23987  ... -0.43377 -0.10823 -0.29385  0.05067  1.69430   \n",
      "3  1.97859  2.66468  ...  0.29598 -1.29865  2.76869  2.08960  0.70003   \n",
      "4  1.12853  2.17016  ... -1.08902 -1.29865  2.00518  1.17454 -1.47218   \n",
      "\n",
      "       V34      V35      V36      V37      V38  \n",
      "0 -1.34158 -1.22961 -0.75919  0.84905 -0.66465  \n",
      "1 -0.79357 -1.22961 -0.71792  0.45127 -0.45804  \n",
      "2 -0.12472  0.04609  0.24347  0.90774  0.46509  \n",
      "3  0.13854  1.75908  0.06151  1.30297  0.58186  \n",
      "4 -1.34158  1.55086 -1.18107  1.01596  0.15788  \n",
      "\n",
      "[5 rows x 39 columns]\n"
     ]
    }
   ],
   "source": [
    "golub_cl = pd.read_csv(\"/Users/stephenandrews/Downloads/MIT Schoolwork/Spring 2025/6.3730/6373Pset1/data_and_materials/golub_data/golub_cl.csv\")\n",
    "golub_gnames = pd.read_csv(\"/Users/stephenandrews/Downloads/MIT Schoolwork/Spring 2025/6.3730/6373Pset1/data_and_materials/golub_data/golub_gnames.csv\")\n",
    "golub = pd.read_csv(\"/Users/stephenandrews/Downloads/MIT Schoolwork/Spring 2025/6.3730/6373Pset1/data_and_materials/golub_data/golub.csv\")\n",
    "\n",
    "\n",
    "print(golub_cl.head())\n",
    "print('------------')\n",
    "print(golub_gnames.head())\n",
    "print('------------')\n",
    "print(golub.head())\n",
    "\n",
    "golub_cl_np = golub_cl.to_numpy()\n",
    "golub_gnames_np = golub_gnames.to_numpy()\n",
    "golub_np = golub.to_numpy()[:, 1:]\n"
   ]
  },
  {
   "cell_type": "code",
   "execution_count": 36,
   "metadata": {},
   "outputs": [],
   "source": [
    "#Getting Means for ALL vs AML for each gene\n",
    "\n",
    "AML_mask = (golub_cl_np[:, 1]).astype(bool) # True for patients with AML, False otherwise\n",
    "\n",
    "AML_array = golub_np[:, AML_mask]\n",
    "mu_M = np.mean(AML_array, axis=1)\n",
    "\n",
    "ALL_array = golub_np[:, ~AML_mask]\n",
    "mu_L = np.mean(ALL_array, axis=1)\n"
   ]
  },
  {
   "cell_type": "code",
   "execution_count": 58,
   "metadata": {},
   "outputs": [
    {
     "name": "stdout",
     "output_type": "stream",
     "text": [
      "# of genes associated with diff tumor types with uncorrected p-values:  1078\n",
      "# of genes associated with diff tumor types using Holm-Bonferroni Correction:  103\n",
      "# of genes associated with diff tumor types using Benjamini-Hochberg Correction:  695\n"
     ]
    }
   ],
   "source": [
    "# Calculate p-values \n",
    "t_stats, p_values = stats.ttest_ind(ALL_array, AML_array, axis = 1, equal_var=False)\n",
    "\n",
    "parti = np.where(p_values < 0.05) # uncorrected p-values\n",
    "\n",
    "partii, _, _, _ = ssm.multipletests(p_values, method='holm') # holm-bonferroni\n",
    "partii = np.where(partii)\n",
    "\n",
    "\n",
    "partiii, _, _, _ = ssm.multipletests(p_values, method='fdr_bh') # benjamini-hochberg\n",
    "partiii = np.where(partiii)\n",
    "\n",
    "\n",
    "print(\"# of genes associated with diff tumor types with uncorrected p-values: \", len(parti[0]))\n",
    "print(\"# of genes associated with diff tumor types using Holm-Bonferroni Correction: \", len(partii[0]))\n",
    "print(\"# of genes associated with diff tumor types using Benjamini-Hochberg Correction: \", len(partiii[0]))\n"
   ]
  }
 ],
 "metadata": {
  "kernelspec": {
   "display_name": "6373pset1",
   "language": "python",
   "name": "python3"
  },
  "language_info": {
   "codemirror_mode": {
    "name": "ipython",
    "version": 3
   },
   "file_extension": ".py",
   "mimetype": "text/x-python",
   "name": "python",
   "nbconvert_exporter": "python",
   "pygments_lexer": "ipython3",
   "version": "3.12.9"
  }
 },
 "nbformat": 4,
 "nbformat_minor": 2
}
